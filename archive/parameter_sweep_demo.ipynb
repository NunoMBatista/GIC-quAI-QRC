{
 "cells": [
  {
   "cell_type": "markdown",
   "id": "7f54be94",
   "metadata": {},
   "source": [
    "# Parameter Sweep Tutorial for QRC\n",
    "\n",
    "This notebook performs a parameter sweep for evaluating Quantum Reservoir Computing performance."
   ]
  },
  {
   "cell_type": "code",
   "execution_count": 1,
   "id": "59210630",
   "metadata": {},
   "outputs": [],
   "source": [
    "import os\n",
    "import sys\n",
    "import numpy as np\n",
    "import pandas as pd\n",
    "import matplotlib.pyplot as plt\n",
    "import seaborn as sns\n",
    "\n",
    "# Add project source directory to path\n",
    "sys.path.append(os.path.join('..'))\n",
    "\n",
    "from parameter_sweep import ParameterSweep\n",
    "from config_manager import ConfigManager\n",
    "from visualization_sweep import create_summary_dashboard, plot_parameter_effect, plot_heatmap\n",
    "from sweep_analysis import identify_significant_parameters, generate_best_configuration_table"
   ]
  },
  {
   "cell_type": "markdown",
   "id": "560e2b10",
   "metadata": {},
   "source": [
    "## 1. Basic Parameter Sweep Methodology\n",
    "\n",
    "When conducting a parameter sweep for QRC, consider the following methodology:\n",
    "\n",
    "1. **Define baseline parameters**: Start with a working configuration\n",
    "2. **Identify key parameters**: Select parameters that are most likely to affect performance\n",
    "3. **Define parameter ranges**: Set reasonable ranges for each parameter\n",
    "4. **Run sweep**: Perform the parameter sweep, keeping most parameters fixed while varying a few\n",
    "5. **Analyze results**: Identify optimal parameter values and their interactions\n",
    "6. **Refine search**: Narrow the parameter ranges around optimal values for more precision\n",
    "\n",
    "Let's implement this approach for our QRC experiments."
   ]
  },
  {
   "cell_type": "markdown",
   "id": "e0fa42e3",
   "metadata": {},
   "source": [
    "## 2. Load Base Configuration\n",
    "\n",
    "First, let's load a base configuration to use for our parameter sweeps."
   ]
  },
  {
   "cell_type": "code",
   "execution_count": 2,
   "id": "69b2b941",
   "metadata": {},
   "outputs": [
    {
     "name": "stdout",
     "output_type": "stream",
     "text": [
      "dataset_type: cvc_clinic_db_patches\n",
      "data_dir: None\n",
      "target_size: [128, 128]\n",
      "split_ratio: 0.8\n",
      "reduction_method: autoencoder\n",
      "dim_reduction: 12\n",
      "num_examples: 10000\n",
      "num_test_examples: 400\n",
      "guided_alpha: 0.3\n",
      "guided_beta: 0.7\n",
      "quantum_update_frequency: 1\n",
      "guided_batch_size: 32\n",
      "autoencoder_epochs: 50\n",
      "autoencoder_batch_size: 64\n",
      "autoencoder_learning_rate: 0.001\n",
      "autoencoder_hidden_dims: None\n",
      "gpu: False\n",
      "geometry: chain\n",
      "lattice_spacing: 10.0\n",
      "rabi_freq: 6.283185307179586\n",
      "evolution_time: 4.0\n",
      "time_steps: 16\n",
      "readout_type: all\n",
      "n_shots: 1000\n",
      "detuning_max: 6.0\n",
      "encoding_scale: 9.0\n",
      "regularization: 0.0005\n",
      "nepochs: 100\n",
      "batchsize: 1000\n",
      "learning_rate: 0.01\n",
      "seed: 42\n",
      "no_progress: False\n",
      "no_plot: False\n"
     ]
    }
   ],
   "source": [
    "# Load default configuration\n",
    "base_config = ConfigManager.get_default_config()\n",
    "\n",
    "# Display configuration\n",
    "for key, value in base_config.items():\n",
    "    print(f\"{key}: {value}\")"
   ]
  },
  {
   "cell_type": "markdown",
   "id": "1d6d908a",
   "metadata": {},
   "source": [
    "## 3. Define Parameter Grid for Sweep\n",
    "\n",
    "Let's define a parameter grid for our sweep. We'll focus on a few key parameters:"
   ]
  },
  {
   "cell_type": "code",
   "execution_count": 3,
   "id": "468bed5b",
   "metadata": {},
   "outputs": [
    {
     "name": "stdout",
     "output_type": "stream",
     "text": [
      "Total number of experiments: 144\n"
     ]
    }
   ],
   "source": [
    "# Define parameter grid for a simple sweep\n",
    "param_grid = {\n",
    "    \"reduction_type\": [\"pca\", \"autoencoder\", \"guided_autoencoder\"],  # Type of dimensionality reduction\n",
    "    \"dim_reduction\": [6, 8, 10, 12],  # Encoding dimension\n",
    "    \"readout_type\": [\"Z\", \"ZZ\", \"all\"],  # Quantum readout type\n",
    "    \"n_shots\": [500, 1000],  # Number of quantum shots\n",
    "    \"seed\": [42, 43]  # Multiple seeds for statistical significance\n",
    "}\n",
    "\n",
    "# Calculate total number of experiments\n",
    "n_experiments = 1\n",
    "for values in param_grid.values():\n",
    "    n_experiments *= len(values)\n",
    "\n",
    "print(f\"Total number of experiments: {n_experiments}\")"
   ]
  },
  {
   "cell_type": "markdown",
   "id": "1793c0f5",
   "metadata": {},
   "source": [
    "## 4. Initialize Parameter Sweep\n",
    "\n",
    "Now let's initialize the parameter sweep with our base configuration."
   ]
  },
  {
   "cell_type": "code",
   "execution_count": 4,
   "id": "638ac535",
   "metadata": {},
   "outputs": [],
   "source": [
    "# Set output directory for results\n",
    "output_dir = os.path.join('results', 'sweep')\n",
    "os.makedirs(output_dir, exist_ok=True)\n",
    "\n",
    "# Initialize parameter sweep\n",
    "sweep = ParameterSweep(base_config, output_dir)"
   ]
  },
  {
   "cell_type": "markdown",
   "id": "765f6442",
   "metadata": {},
   "source": [
    "## 5. Run Parameter Sweep\n",
    "\n",
    "Let's run the parameter sweep. This will execute the experiments defined by our parameter grid."
   ]
  },
  {
   "cell_type": "code",
   "execution_count": null,
   "id": "be8895a2",
   "metadata": {},
   "outputs": [],
   "source": [
    "# Run the parameter sweep\n",
    "# Note: This will run many experiments and may take a long time\n",
    "# Uncomment to run\n",
    "\n",
    "results_df = sweep.run_sweep(param_grid, \"notebook_demo\")\n",
    "\n",
    "# Alternatively, for demonstration purposes, let's load a pre-computed result\n",
    "# This assumes you've already run a sweep and saved the results\n",
    "# results_df = pd.read_csv(os.path.join(output_dir, 'sample_results.csv'))\n",
    "\n",
    "# Print the first few rows of the results\n",
    "results_df.head()"
   ]
  },
  {
   "cell_type": "markdown",
   "id": "93c1dce5",
   "metadata": {},
   "source": [
    "## 6. Analyze Results\n",
    "\n",
    "After running the parameter sweep, we can analyze the results to identify optimal parameter values."
   ]
  },
  {
   "cell_type": "code",
   "execution_count": null,
   "id": "988f5d58",
   "metadata": {},
   "outputs": [],
   "source": [
    "# This assumes you've run the sweep or loaded results in the previous cell\n",
    "# If not, load a sample results file\n",
    "sample_results_path = os.path.join('..', 'results', 'sample_results.csv')\n",
    "\n",
    "# Check if file exists, if not create a dummy dataframe for demonstration\n",
    "if os.path.exists(sample_results_path):\n",
    "    results_df = pd.read_csv(sample_results_path)\n",
    "else:\n",
    "    # Create dummy data for demonstration\n",
    "    print(\"No results file found. Creating dummy data for demonstration.\")\n",
    "    # Generate dummy data\n",
    "    np.random.seed(42)\n",
    "    n_samples = 24\n",
    "    results_df = pd.DataFrame({\n",
    "        'dim_reduction': np.random.choice([6, 8, 10, 12], n_samples),\n",
    "        'readout_type': np.random.choice(['Z', 'ZZ', 'all'], n_samples),\n",
    "        'n_shots': np.random.choice([500, 1000], n_samples),\n",
    "        'seed': np.random.choice([42, 43], n_samples),\n",
    "        'QRC_final_test_acc': np.random.uniform(0.7, 0.95, n_samples),\n",
    "        'PCA+linear_final_test_acc': np.random.uniform(0.6, 0.85, n_samples),\n",
    "        'PCA+NN_final_test_acc': np.random.uniform(0.65, 0.9, n_samples)\n",
    "    })\n",
    "    \n",
    "# Display the first few rows\n",
    "results_df.head()"
   ]
  },
  {
   "cell_type": "code",
   "execution_count": null,
   "id": "22784a17",
   "metadata": {},
   "outputs": [],
   "source": [
    "# Identify significant parameters\n",
    "target_metric = 'QRC_final_test_acc'\n",
    "significant_params = identify_significant_parameters(results_df, target_metric)\n",
    "print(f\"Significant parameters affecting {target_metric}: {significant_params}\")"
   ]
  },
  {
   "cell_type": "code",
   "execution_count": null,
   "id": "da0273f8",
   "metadata": {},
   "outputs": [],
   "source": [
    "# Generate best configuration table\n",
    "best_configs = generate_best_configuration_table(results_df)\n",
    "best_configs"
   ]
  },
  {
   "cell_type": "code",
   "execution_count": null,
   "id": "fa5df310",
   "metadata": {},
   "outputs": [],
   "source": [
    "# Plot effect of each parameter on performance\n",
    "for param in significant_params:\n",
    "    if param in results_df.columns and results_df[param].nunique() > 1:\n",
    "        plot_parameter_effect(results_df, param, target_metric)"
   ]
  },
  {
   "cell_type": "code",
   "execution_count": null,
   "id": "ebc6d37c",
   "metadata": {},
   "outputs": [],
   "source": [
    "# Plot parameter interactions if we have at least 2 significant parameters\n",
    "if len(significant_params) >= 2:\n",
    "    plot_heatmap(results_df, significant_params[0], significant_params[1], target_metric)"
   ]
  },
  {
   "cell_type": "markdown",
   "id": "e8ef49b4",
   "metadata": {},
   "source": [
    "## 7. Create Dashboard\n",
    "\n",
    "We can create a comprehensive dashboard of our parameter sweep results."
   ]
  },
  {
   "cell_type": "code",
   "execution_count": null,
   "id": "18f15b2d",
   "metadata": {},
   "outputs": [],
   "source": [
    "# Create dashboard directory\n",
    "dashboard_dir = os.path.join(output_dir, 'dashboard')\n",
    "os.makedirs(dashboard_dir, exist_ok=True)\n",
    "\n",
    "# Create dashboard\n",
    "create_summary_dashboard(results_df, dashboard_dir, target_metric)\n",
    "\n",
    "print(f\"Dashboard created in {dashboard_dir}\")"
   ]
  },
  {
   "cell_type": "markdown",
   "id": "3383c2d9",
   "metadata": {},
   "source": [
    "## 8. Refined Parameter Sweep\n",
    "\n",
    "Based on the initial results, we can refine our parameter sweep to focus on promising parameter ranges."
   ]
  },
  {
   "cell_type": "code",
   "execution_count": null,
   "id": "828ba105",
   "metadata": {},
   "outputs": [],
   "source": [
    "# Identify optimal parameter values from initial sweep\n",
    "best_idx = results_df[target_metric].idxmax()\n",
    "best_config = results_df.loc[best_idx]\n",
    "\n",
    "print(\"Best configuration from initial sweep:\")\n",
    "for param in significant_params:\n",
    "    if param in best_config:\n",
    "        print(f\"  {param}: {best_config[param]}\")\n",
    "print(f\"  Performance: {best_config[target_metric]:.4f}\")"
   ]
  },
  {
   "cell_type": "code",
   "execution_count": null,
   "id": "c81eabe6",
   "metadata": {},
   "outputs": [],
   "source": [
    "# Define refined parameter grid around best values\n",
    "# This is just an example, you would adjust based on your actual results\n",
    "refined_param_grid = {}\n",
    "\n",
    "# For demonstration, let's assume dim_reduction=10 was best\n",
    "refined_param_grid[\"dim_reduction\"] = [8, 9, 10, 11, 12]\n",
    "\n",
    "# For demonstration, let's assume readout_type=\"all\" was best\n",
    "refined_param_grid[\"readout_type\"] = [\"ZZ\", \"all\"]\n",
    "\n",
    "# For demonstration, let's assume n_shots=1000 was best\n",
    "refined_param_grid[\"n_shots\"] = [800, 1000, 1200]\n",
    "\n",
    "# Add more parameters to explore\n",
    "refined_param_grid[\"rabi_freq\"] = [2*np.pi, 4*np.pi]\n",
    "refined_param_grid[\"seed\"] = [42, 43, 44]\n",
    "\n",
    "# Calculate total number of experiments in refined sweep\n",
    "n_refined = 1\n",
    "for values in refined_param_grid.values():\n",
    "    n_refined *= len(values)\n",
    "\n",
    "print(f\"Total number of experiments in refined sweep: {n_refined}\")"
   ]
  },
  {
   "cell_type": "markdown",
   "id": "9fc4a492",
   "metadata": {},
   "source": [
    "## 9. Run Refined Sweep\n",
    "\n",
    "Now we can run the refined parameter sweep."
   ]
  },
  {
   "cell_type": "code",
   "execution_count": null,
   "id": "5939ac6d",
   "metadata": {},
   "outputs": [],
   "source": [
    "# Run the refined parameter sweep\n",
    "# Note: This will run many experiments and may take a long time\n",
    "# Uncomment to run\n",
    "\n",
    "# refined_results_df = sweep.run_sweep(refined_param_grid, \"notebook_refined\")\n",
    "\n",
    "# For demonstration purposes, let's just print the parameter grid\n",
    "print(\"Refined parameter grid:\")\n",
    "for param, values in refined_param_grid.items():\n",
    "    print(f\"  {param}: {values}\")"
   ]
  },
  {
   "cell_type": "markdown",
   "id": "a3f9e0b6",
   "metadata": {},
   "source": [
    "## 10. Summary and Best Practices\n",
    "\n",
    "Here are some best practices for parameter sweeps in QRC:\n",
    "\n",
    "1. **Start broad, then refine**: Begin with a wide range of parameter values, then narrow down\n",
    "2. **Use multiple seeds**: Run each configuration with multiple random seeds for statistical significance\n",
    "3. **Group related parameters**: Sweep related parameters together (e.g., quantum parameters)\n",
    "4. **Balance exploration vs. computation**: Consider computational resources when defining parameter grids\n",
    "5. **Save all results**: Keep detailed records of all experiments for later analysis\n",
    "6. **Analyze parameter interactions**: Look for interactions between parameters using heatmaps\n",
    "7. **Create publication-quality visualizations**: Generate clear, informative figures for your paper\n",
    "\n",
    "By following this methodology, you'll be able to identify optimal parameter configurations for your QRC experiments and present compelling results in your scientific paper."
   ]
  }
 ],
 "metadata": {
  "kernelspec": {
   "display_name": "quera",
   "language": "python",
   "name": "python3"
  },
  "language_info": {
   "codemirror_mode": {
    "name": "ipython",
    "version": 3
   },
   "file_extension": ".py",
   "mimetype": "text/x-python",
   "name": "python",
   "nbconvert_exporter": "python",
   "pygments_lexer": "ipython3",
   "version": "3.10.16"
  }
 },
 "nbformat": 4,
 "nbformat_minor": 5
}
