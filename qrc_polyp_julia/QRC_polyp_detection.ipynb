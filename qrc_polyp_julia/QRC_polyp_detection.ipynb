{
 "cells": [
  {
   "cell_type": "code",
   "execution_count": 43,
   "metadata": {},
   "outputs": [
    {
     "name": "stderr",
     "output_type": "stream",
     "text": [
      "\u001b[32m\u001b[1m  Activating\u001b[22m\u001b[39m project at `~/GIC-quAI-QRC/qrc_polyp_julia`\n"
     ]
    },
    {
     "data": {
      "text/plain": [
       "true"
      ]
     },
     "metadata": {},
     "output_type": "display_data"
    }
   ],
   "source": [
    "using Pkg \n",
    "Pkg.activate(\".\")\n",
    "Pkg.instantiate()\n",
    "ENV[\"DATADEPS_ALWAYS_ACCEPT\"] = true\n",
    "SHOW_PROGRESS_BAR = true"
   ]
  },
  {
   "cell_type": "code",
   "execution_count": 44,
   "metadata": {},
   "outputs": [],
   "source": [
    "using MLDatasets\n",
    "using MultivariateStats\n",
    "using OneHotArrays\n",
    "using Flux\n",
    "using Bloqade\n",
    "using Colors\n",
    "using ProgressBars\n",
    "using JLD2\n",
    "using Plots\n",
    "using ImageShow\n",
    "using Images\n",
    "using FileIO\n",
    "using ImageTransformations\n",
    "using Random\n",
    "using MLUtils"
   ]
  },
  {
   "cell_type": "markdown",
   "metadata": {},
   "source": [
    "# Load the Generated Polyp Dataset"
   ]
  },
  {
   "cell_type": "code",
   "execution_count": 45,
   "metadata": {},
   "outputs": [
    {
     "data": {
      "text/plain": [
       "create_polyp_dataset (generic function with 1 method)"
      ]
     },
     "metadata": {},
     "output_type": "display_data"
    }
   ],
   "source": [
    "function create_polyp_dataset(polyp_dir, no_polyp_dir; split_ratio=0.8, target_size=(28, 28))\n",
    "    # Load and process polyp images\n",
    "    polyp_files = readdir(polyp_dir, join=true)\n",
    "    no_polyp_files = readdir(no_polyp_dir, join=true)\n",
    "    \n",
    "    # Shuffle files\n",
    "    Random.seed!(42) \n",
    "    shuffle!(polyp_files)\n",
    "    shuffle!(no_polyp_files)\n",
    "    \n",
    "    # Define train/test split\n",
    "    n_polyp_train = floor(Int, length(polyp_files) * split_ratio)\n",
    "    n_no_polyp_train = floor(Int, length(no_polyp_files) * split_ratio)\n",
    "    \n",
    "    polyp_train = polyp_files[1:n_polyp_train]\n",
    "    polyp_test = polyp_files[n_polyp_train+1:end]\n",
    "    no_polyp_train = no_polyp_files[1:n_no_polyp_train]\n",
    "    no_polyp_test = no_polyp_files[n_no_polyp_train+1:end]\n",
    "    \n",
    "    # Create train dataset\n",
    "    train_files = vcat(polyp_train, no_polyp_train)\n",
    "    train_targets = vcat(ones(Int, length(polyp_train)), zeros(Int, length(no_polyp_train)))\n",
    "    \n",
    "    # Create test dataset\n",
    "    test_files = vcat(polyp_test, no_polyp_test)\n",
    "    test_targets = vcat(ones(Int, length(polyp_test)), zeros(Int, length(no_polyp_test)))\n",
    "    \n",
    "    # Shuffle train and test data\n",
    "    train_indices = shuffle(1:length(train_files))\n",
    "    test_indices = shuffle(1:length(test_files))\n",
    "    \n",
    "    train_files = train_files[train_indices]\n",
    "    train_targets = train_targets[train_indices]\n",
    "    test_files = test_files[test_indices]\n",
    "    test_targets = test_targets[test_indices]\n",
    "    \n",
    "    # Process images and create features arrays (the features are the pixel values)\n",
    "    function process_images(files, target_size)\n",
    "        n_samples = length(files)\n",
    "        features = zeros(Float32, target_size[1], target_size[2], n_samples)\n",
    "        \n",
    "        for (i, file) in enumerate(files)\n",
    "            img = load(file)\n",
    "            # Convert to grayscale if needed\n",
    "            if eltype(img) <: Colorant\n",
    "                img = Gray.(img)\n",
    "            end\n",
    "            # Resize\n",
    "            img_resized = imresize(img, target_size)\n",
    "            # Normalize to [0,1] and convert to features array\n",
    "            features[:, :, i] = Float32.(img_resized)\n",
    "        end\n",
    "        \n",
    "        return features\n",
    "    end\n",
    "    \n",
    "    # Process train and test images\n",
    "    train_features = process_images(train_files, target_size)\n",
    "    test_features = process_images(test_files, target_size)\n",
    "    \n",
    "    # Create metadata\n",
    "    train_metadata = Dict{String, Any}(\n",
    "        \"n_samples\" => length(train_files),\n",
    "        \"n_polyp\" => length(polyp_train),\n",
    "        \"n_no_polyp\" => length(no_polyp_train),\n",
    "    )\n",
    "    \n",
    "    test_metadata = Dict{String, Any}(\n",
    "        \"n_samples\" => length(test_files),\n",
    "        \"n_polyp\" => length(polyp_test),\n",
    "        \"n_no_polyp\" => length(no_polyp_test),\n",
    "    )\n",
    "    \n",
    "    # Create dataset structs\n",
    "    train_dataset = (\n",
    "        metadata = train_metadata,\n",
    "        split = :train,\n",
    "        features = train_features,\n",
    "        targets = train_targets\n",
    "    )\n",
    "    \n",
    "    test_dataset = (\n",
    "        metadata = test_metadata,\n",
    "        split = :test,\n",
    "        features = test_features,\n",
    "        targets = test_targets\n",
    "    )\n",
    "    \n",
    "    return train_dataset, test_dataset\n",
    "end"
   ]
  },
  {
   "cell_type": "code",
   "execution_count": 46,
   "metadata": {},
   "outputs": [
    {
     "data": {
      "text/plain": [
       "((metadata = Dict{String, Any}(\"n_samples\" => 1598, \"n_no_polyp\" => 798, \"n_polyp\" => 800), split = :train, features = [0.28235295 0.28235295 … 0.043137256 0.043137256; 0.3019608 0.30588236 … 0.043137256 0.043137256; … ; 0.043137256 0.043137256 … 0.039215688 0.039215688; 0.043137256 0.043137256 … 0.047058824 0.047058824;;; 0.050980393 0.05490196 … 0.043137256 0.047058824; 0.19215687 0.19607843 … 0.047058824 0.047058824; … ; 0.34117648 0.33333334 … 0.043137256 0.043137256; 0.3372549 0.34117648 … 0.043137256 0.043137256;;; 0.0 0.0 … 0.0 0.0; 0.0 0.0 … 0.0 0.0; … ; 0.0 0.0 … 0.0 0.0; 0.0 0.0 … 0.0 0.0;;; … ;;; 0.0 0.0 … 0.0 0.0; 0.0 0.0 … 0.0 0.0; … ; 0.0 0.0 … 0.0 0.0; 0.0 0.0 … 0.0 0.0;;; 0.0 0.0 … 0.0 0.0; 0.0 0.0 … 0.0 0.0; … ; 0.0 0.0 … 0.0 0.0; 0.0 0.0 … 0.0 0.0;;; 0.30588236 0.3254902 … 0.043137256 0.043137256; 0.33333334 0.3372549 … 0.043137256 0.043137256; … ; 0.10980392 0.101960786 … 0.043137256 0.043137256; 0.11372549 0.10980392 … 0.043137256 0.043137256], targets = [1, 0, 1, 0, 0, 0, 0, 0, 1, 0  …  0, 0, 1, 1, 0, 0, 0, 0, 1, 0]), (metadata = Dict{String, Any}(\"n_samples\" => 400, \"n_no_polyp\" => 200, \"n_polyp\" => 200), split = :test, features = [0.17254902 0.1254902 … 0.13333334 0.13333334; 0.13333334 0.21176471 … 0.2627451 0.105882354; … ; 0.12156863 0.047058824 … 0.37254903 0.15686275; 0.22745098 0.05490196 … 0.42352942 0.31764707;;; 0.14901961 0.08627451 … 0.3137255 0.3764706; 0.12156863 0.05882353 … 0.27058825 0.19215687; … ; 0.06666667 0.14901961 … 0.53333336 0.25882354; 0.09019608 0.02745098 … 0.42745098 0.32156864;;; 0.08235294 0.08235294 … 0.09019608 0.09019608; 0.08235294 0.08235294 … 0.09019608 0.09019608; … ; 0.07450981 0.07450981 … 0.42352942 0.40784314; 0.07450981 0.07450981 … 0.42352942 0.40784314;;; … ;;; 0.0 0.0 … 0.0 0.0; 0.0 0.0 … 0.0 0.0; … ; 0.0 0.0 … 0.0 0.0; 0.0 0.0 … 0.0 0.0;;; 0.32156864 0.32941177 … 0.043137256 0.043137256; 0.33333334 0.34117648 … 0.043137256 0.043137256; … ; 0.10980392 0.105882354 … 0.043137256 0.043137256; 0.10980392 0.11372549 … 0.043137256 0.043137256;;; 0.047058824 0.047058824 … 0.050980393 0.050980393; 0.047058824 0.047058824 … 0.15294118 0.14901961; … ; 0.047058824 0.047058824 … 0.22745098 0.20784314; 0.047058824 0.047058824 … 0.22745098 0.21568628], targets = [0, 0, 1, 1, 0, 0, 0, 1, 0, 1  …  0, 1, 0, 0, 1, 0, 1, 0, 0, 0]))"
      ]
     },
     "metadata": {},
     "output_type": "display_data"
    }
   ],
   "source": [
    "#=\n",
    "dataset polyp:\n",
    "  metadata  =>    Dict{String, Any} with 3 entries\n",
    "  split     =>    :train\n",
    "  features  =>    128×128×71030 Array{Float32, 3}\n",
    "  targets   =>    71030-element Vector{Int64}\n",
    "=#\n",
    "\n",
    "root_dir = dirname(@__DIR__)\n",
    "# Define the path to the generated polyp dataset\n",
    "generated_polyp_dataset = joinpath(root_dir, \"data\", \"datasets\", \"cvc_clinic_db_patches\")\n",
    "polyp_dir = joinpath(generated_polyp_dataset, \"polyp\")\n",
    "no_polyp_dir = joinpath(generated_polyp_dataset, \"no_polyp\")\n",
    "\n",
    "data_train, data_test = create_polyp_dataset(polyp_dir, no_polyp_dir; split_ratio=0.8, target_size=(128, 128))\n"
   ]
  },
  {
   "cell_type": "code",
   "execution_count": 47,
   "metadata": {},
   "outputs": [
    {
     "data": {
      "image/png": "[encoded data removed]",
      "text/html": [
       "<img src=\"data:image/png;base64,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\">"
      ],
      "text/plain": [
       "128×128 Array{Gray{Float32},2} with eltype Gray{Float32}:\n",
       " Gray{Float32}(0.0431373)  …  Gray{Float32}(0.027451)\n",
       " Gray{Float32}(0.0431373)     Gray{Float32}(0.176471)\n",
       " Gray{Float32}(0.0470588)     Gray{Float32}(0.211765)\n",
       " Gray{Float32}(0.0470588)     Gray{Float32}(0.231373)\n",
       " Gray{Float32}(0.0431373)     Gray{Float32}(0.254902)\n",
       " Gray{Float32}(0.0431373)  …  Gray{Float32}(0.270588)\n",
       " Gray{Float32}(0.0431373)     Gray{Float32}(0.27451)\n",
       " Gray{Float32}(0.0431373)     Gray{Float32}(0.282353)\n",
       " Gray{Float32}(0.0431373)     Gray{Float32}(0.301961)\n",
       " Gray{Float32}(0.0431373)     Gray{Float32}(0.305882)\n",
       " ⋮                         ⋱  \n",
       " Gray{Float32}(0.0431373)     Gray{Float32}(0.337255)\n",
       " Gray{Float32}(0.0431373)  …  Gray{Float32}(0.337255)\n",
       " Gray{Float32}(0.0431373)     Gray{Float32}(0.32549)\n",
       " Gray{Float32}(0.0431373)     Gray{Float32}(0.321569)\n",
       " Gray{Float32}(0.0431373)     Gray{Float32}(0.313726)\n",
       " Gray{Float32}(0.0431373)     Gray{Float32}(0.301961)\n",
       " Gray{Float32}(0.0431373)  …  Gray{Float32}(0.298039)\n",
       " Gray{Float32}(0.0431373)     Gray{Float32}(0.305882)\n",
       " Gray{Float32}(0.0431373)     Gray{Float32}(0.301961)"
      ]
     },
     "metadata": {},
     "output_type": "display_data"
    }
   ],
   "source": [
    "# plot random image of the training dataset\n",
    "n = rand(1:size(data_train.features, 3))\n",
    "img = data_train.features[:, :, n]\n",
    "Gray.(img)"
   ]
  },
  {
   "cell_type": "markdown",
   "metadata": {},
   "source": [
    "# PCA Reduction"
   ]
  },
  {
   "cell_type": "code",
   "execution_count": 48,
   "metadata": {},
   "outputs": [
    {
     "name": "stdout",
     "output_type": "stream",
     "text": [
      "data_train.features shape: (128, 128, 1598)\n"
     ]
    },
    {
     "data": {
      "text/plain": [
       "16384"
      ]
     },
     "metadata": {},
     "output_type": "display_data"
    }
   ],
   "source": [
    "# Print data_train's shape\n",
    "println(\"data_train.features shape: \", size(data_train.features))\n",
    "# Dataset dataset_length\n",
    "dataset_length = size(data_train.features, 3)\n",
    "\n",
    "image_dim = size(data_train.features, 1)\n",
    "image_size = size(data_train.features, 2) * size(data_train.features, 1)"
   ]
  },
  {
   "cell_type": "code",
   "execution_count": 49,
   "metadata": {},
   "outputs": [
    {
     "name": "stdout",
     "output_type": "stream",
     "text": [
      "Flattening images...\n",
      "Fitting PCA model...\n",
      "Computing PCA...\n"
     ]
    },
    {
     "data": {
      "text/plain": [
       "8×1000 Matrix{Float32}:\n",
       "  -2.73739     5.91723   -17.0842   …  -7.10588    -6.02881      1.30803\n",
       " -28.2138     -9.18983     4.85625     -0.0562671   0.0400593  -17.0262\n",
       "  -0.51764   -15.6315     -1.93086      5.07845    12.1639       1.22156\n",
       "  -0.468572   -1.02832     8.38195     -3.73049     0.0280939   -4.8968\n",
       "  -4.38882    -0.595982   -2.24836     -0.825041    1.80728     -1.23836\n",
       "   1.83123     5.6861      3.18176  …   2.86305    -0.537474    -5.53512\n",
       "  -4.87538    -3.70633     4.0328       5.45846    -2.02029     -1.20309\n",
       "   3.20484     1.87107     0.62122     -1.60157     1.14453      6.16641"
      ]
     },
     "metadata": {},
     "output_type": "display_data"
    }
   ],
   "source": [
    "#=\n",
    "The data_train and data_test are currently in the form 128x128x1x71030 and 128x128x1x17758 respectively.\n",
    "\n",
    "We need to flatten the images in order to use them in the PCA algorithm.\n",
    "The images are 128x128 pixels, and we need to convert them to a 16384-dimensional vector (128*128=16384).\n",
    "=#\n",
    "\n",
    "# Number of images\n",
    "dataset_length = size(data_train.features, 3)\n",
    "\n",
    "# Number of pixels in each image\n",
    "image_size = size(data_train.features, 1) * size(data_train.features, 2)\n",
    "\n",
    "# Flattened images\n",
    "println(\"Flattening images...\")\n",
    "data_train_flat = reshape(data_train.features, (image_size, dataset_length))\n",
    "\n",
    "# Number of principal components\n",
    "dim_pca = 8\n",
    "\n",
    "# The 'fit' function from the 'MultivariateStats' package generates the projection operator for the PCA\n",
    "println(\"Fitting PCA model...\")\n",
    "model_pca = fit(PCA, data_train_flat, maxoutdim=dim_pca)\n",
    "\n",
    "# Compute the first 8 principal components\n",
    "println(\"Computing PCA...\")\n",
    "x = predict(model_pca, data_train_flat)\n",
    "\n",
    "num_examples = 1000\n",
    "xs = x[:, 1:num_examples]"
   ]
  },
  {
   "cell_type": "code",
   "execution_count": 50,
   "metadata": {},
   "outputs": [
    {
     "data": {
      "text/plain": [
       "8×1000 Matrix{Float64}:\n",
       " -0.370376    0.800617   -2.31154    …  -0.961445    -0.815714     0.17698\n",
       " -3.81741    -1.24341     0.657064      -0.00761309   0.00542014  -2.3037\n",
       " -0.0700381  -2.11498    -0.26125        0.687128     1.64581      0.165281\n",
       " -0.063399   -0.139134    1.1341        -0.504745     0.00380118  -0.66255\n",
       " -0.59382    -0.0806379  -0.30421       -0.11163      0.24453     -0.167553\n",
       "  0.24777     0.769345    0.4305     …   0.387379    -0.0727217   -0.748916\n",
       " -0.659652   -0.501477    0.545648       0.738544    -0.273351    -0.162781\n",
       "  0.433623    0.253161    0.0840527     -0.216697     0.154858     0.834332"
      ]
     },
     "metadata": {},
     "output_type": "display_data"
    }
   ],
   "source": [
    "#= \n",
    "We need to scale the range of the principal components to a range of local detuning (-6rad/μs, 6rad/μs).\n",
    "\n",
    "Later, for each image, we will encode each of the 8 scaled principal components into each single local detuning for 8 atoms\n",
    "=# \n",
    "\n",
    "Δ_max = 6.0\n",
    "spectral = max(abs(maximum(xs)), abs(minimum(xs)))\n",
    "xs = xs/spectral * Δ_max"
   ]
  },
  {
   "cell_type": "code",
   "execution_count": 51,
   "metadata": {},
   "outputs": [
    {
     "data": {
      "text/plain": [
       "2×1000 OneHotMatrix(::Vector{UInt32}) with eltype Bool:\n",
       " ⋅  1  ⋅  1  1  1  1  1  ⋅  1  ⋅  ⋅  1  …  1  ⋅  ⋅  1  ⋅  1  ⋅  ⋅  1  1  1  ⋅\n",
       " 1  ⋅  1  ⋅  ⋅  ⋅  ⋅  ⋅  1  ⋅  1  1  ⋅     ⋅  1  1  ⋅  1  ⋅  1  1  ⋅  ⋅  ⋅  1"
      ]
     },
     "metadata": {},
     "output_type": "display_data"
    }
   ],
   "source": [
    "#=\n",
    "One-hot encoding turns the labels into a binary matrix representation, \n",
    "for example, the labels 0 through 9 are converted into 10-dimensional binary vectors.\n",
    "0 = [1, 0, 0, 0, 0, 0, 0, 0, 0, 0]\n",
    "1 = [0, 1, 0, 0, 0, 0, 0, 0, 0, 0]\n",
    "...\n",
    "9 = [0, 0, 0, 0, 0, 0, 0, 0, 0, 1]\n",
    "\n",
    "This is useful for some machine learning algorithms\n",
    "=#\n",
    "\n",
    "y = onehotbatch(data_train.targets, 0:1)\n",
    "ys = y[:, 1:num_examples]\n"
   ]
  },
  {
   "cell_type": "markdown",
   "metadata": {},
   "source": [
    "# Simulate Quantum Dynamics"
   ]
  },
  {
   "cell_type": "code",
   "execution_count": 52,
   "metadata": {},
   "outputs": [
    {
     "data": {
      "text/plain": [
       "DetuningLayer"
      ]
     },
     "metadata": {},
     "output_type": "display_data"
    }
   ],
   "source": [
    "Base.@kwdef struct DetuningLayer\n",
    "    atoms # atom positions \n",
    "    readouts # readout observables\n",
    "    Ω::Float64 # Rabi frequency\n",
    "    t_start::Float64 # evolution starting time\n",
    "    t_end::Float64 # evolution ending time\n",
    "    step::Float64 # readout time step\n",
    "    reg::AbstractArrayReg # quantum state storage\n",
    "end"
   ]
  },
  {
   "cell_type": "code",
   "execution_count": 53,
   "metadata": {},
   "outputs": [
    {
     "data": {
      "text/plain": [
       "apply_layer (generic function with 2 methods)"
      ]
     },
     "metadata": {},
     "output_type": "display_data"
    }
   ],
   "source": [
    "function apply_layer(layer::DetuningLayer, x::Vector{<:Real})\n",
    "    # define Rydberg hamiltonian, detunings parametrized in termos of PCA values (x)\n",
    "    h = rydberg_h(layer.atoms; Δ=x, Ω=layer.Ω)\n",
    "\n",
    "    # at the start of the simulation, all atoms are in the ground state\n",
    "    reg = layer.reg\n",
    "    set_zero_state!(reg)\n",
    "\n",
    "    t_start = layer.t_start\n",
    "    t_end = layer.t_end\n",
    "    t_step = layer.step\n",
    "\n",
    "    # initialize output vector\n",
    "    steps = floor(Int, (t_end - t_start) / t_step)\n",
    "    out = zeros(steps * length(layer.readouts))\n",
    "\n",
    "\n",
    "    # numerically simulate quantum evolution with Krylov methods and store the readouts\n",
    "    prob = KrylovEvolution(\n",
    "        reg, \n",
    "        layer.t_start:layer.step:layer.t_end, \n",
    "        h\n",
    "    )   \n",
    "     \n",
    "    i = 1 \n",
    "    for (step, reg, _) in prob # check the states at every time step\n",
    "        step == 1 && continue # ignore initial state step\n",
    "\n",
    "        for op in layer.readouts\n",
    "            out[i] = real(expect(op, reg)) # store the expectation value of each operator for the given state at the current time step\n",
    "            i += 1\n",
    "        end\n",
    "    end\n",
    "    return out\n",
    "end\n",
    "\n",
    "\n",
    "# apply \"DetuningLayer\" to a matrix containin scaled detunings for each image\n",
    "function apply_layer(layer::DetuningLayer, x::Matrix{<:Real})\n",
    "    iter = 1:size(x, 2)\n",
    "    if SHOW_PROGRESS_BAR\n",
    "        iter = ProgressBar(1:size(x, 2))\n",
    "    end\n",
    "\n",
    "    outs = [apply_layer(layer, x[:, i]) for i in iter]\n",
    "    return hcat(outs...)\n",
    "end"
   ]
  },
  {
   "cell_type": "code",
   "execution_count": 54,
   "metadata": {},
   "outputs": [],
   "source": [
    "#=\n",
    "Prepare the 8 atom chain lattice\n",
    "=# \n",
    "\n",
    "d = 10\n",
    "atoms = generate_sites(\n",
    "    ChainLattice(),\n",
    "    dim_pca;\n",
    "    scale=d\n",
    ")\n",
    "\n",
    "# All single site Z_i and correlator Z_iZ_j readouts\n",
    "nsites = length(atoms)\n",
    "readouts = AbstractBlock[put(nsites, i => Z) for i in 1:nsites]\n",
    "for i in 1:nsites\n",
    "    for j in i+1:nsites\n",
    "        push!(readouts, chain(put(nsites, i => Z), put(nsites, j => Z)))\n",
    "    end\n",
    "end\n",
    "\n",
    "# build pre_processing layer - we decide to run the dynamics for 4μs, sampling every 0.5μs\n",
    "pre_layer = DetuningLayer(;\n",
    "    atoms,\n",
    "    readouts,\n",
    "    Ω=2π,\n",
    "    t_start=0.0,\n",
    "    t_end=4.0,\n",
    "    step=0.5,\n",
    "    reg=zero_state(nsites)\n",
    ");"
   ]
  },
  {
   "cell_type": "code",
   "execution_count": null,
   "metadata": {},
   "outputs": [],
   "source": [
    "#=\n",
    "Run the simulation by applying pre_layer to the scaled detunings for each image.\n",
    "\n",
    "The readouts from the quantum dynamics will form a 288-dimensional vector.\n",
    "\n",
    "The full results will be stored in a 288×1_000 matrix 'embeddings'\n",
    "=#\n",
    "\n",
    "embeddings = apply_layer(pre_layer, xs)"
   ]
  },
  {
   "cell_type": "markdown",
   "metadata": {},
   "source": [
    "# Classical Training"
   ]
  },
  {
   "cell_type": "code",
   "execution_count": null,
   "metadata": {},
   "outputs": [],
   "source": [
    "# function to evaluate the accuracy by comparing the predicted labels with the true labels.\n",
    "accuracy(model, xs, targets) = sum(onecold(model(xs), 0:1) .== targets) / length(targets)\n",
    "\n",
    "# function to take the training and test features and labels as well as the training hyperparameters\n",
    "function train(\n",
    "    xs_train, ys_train, xs_test, ys_test;\n",
    "    regularization::Float64 = 0.0, \n",
    "    nepochs::Int = 100,\n",
    "    batchsize::Int = 100,\n",
    "    opt = Flux.Adam(0.01),\n",
    "    verbose::Bool, \n",
    "    nonlinear::Bool = false\n",
    "    )\n",
    "\n",
    "    # linear regression pre_layer\n",
    "    model = Chain(\n",
    "        Dense(length(xs_train[:, 1]), 2),\n",
    "        softmax\n",
    "    )\n",
    "\n",
    "    # 4-layer neural network for comparison with QRC\n",
    "    if nonlinear\n",
    "        model = Chain(\n",
    "            Dense(length(xs_train[:, 1]), 100, relu),\n",
    "            Dense(100, 100, relu),\n",
    "            Dense(100, 2),\n",
    "            softmax\n",
    "        )\n",
    "    end\n",
    "\n",
    "    # Load the training data into a DataLoader for efficient batch processing\n",
    "    loader = Flux.DataLoader(\n",
    "        (data = xs_train, label = ys_train);\n",
    "        batchsize,\n",
    "        shuffle = true\n",
    "    );\n",
    "\n",
    "    ps = Flux.params(model)\n",
    "\n",
    "    verbose && println(\"Training...\")\n",
    "    losses = zeros(nepochs)\n",
    "    accs_train = zeros(nepochs)\n",
    "    accs_test = zeros(nepochs)\n",
    "\n",
    "    # Training loop\n",
    "    for epoch in (verbose ? ProgressBar(1:nepochs) : 1:nepochs)\n",
    "        l = 1.0\n",
    "\n",
    "        # For each batch of data, compute the gradients and update the model parameters\n",
    "        for (x, y) in loader\n",
    "            # Compute the gradients\n",
    "            grads = Flux.gradient(ps) do \n",
    "                # Compute the model output\n",
    "                ŷ = model(x)\n",
    "\n",
    "                # If regularization is not zero, add it to the loss\n",
    "                # The loss function is the cross-entropy loss\n",
    "                if iszero(regularization)\n",
    "                    l = Flux.crossentropy(ŷ, y)\n",
    "                else\n",
    "                    l = Flux.crossentropy(ŷ, y) + regularization * sum(sum(abs, p) for p in ps)\n",
    "                end\n",
    "                \n",
    "            end\n",
    "            # Update the model parameters using the computed gradients\n",
    "            Flux.update!(opt, ps, grads)\n",
    "        end\n",
    "\n",
    "        # Compute the loss and accuracy on the training and test sets\n",
    "        losses[epoch] = Flux.crossentropy(model(xs_train), ys_train)\n",
    "        accs_train[epoch] = accuracy(model, xs_train, onecold(ys_train, 0:1))\n",
    "        accs_test[epoch] = accuracy(model, xs_test, ys_test)\n",
    "    end\n",
    "\n",
    "    return losses, accs_train, accs_test\n",
    "end"
   ]
  },
  {
   "cell_type": "code",
   "execution_count": null,
   "metadata": {},
   "outputs": [],
   "source": [
    "#=\n",
    "\n",
    "Evaluate the model\n",
    "\n",
    "=# \n",
    "\n",
    "num_test_examples = 400\n",
    "\n",
    "# use the same PCA model as before to fit the test data\n",
    "#test_features = predict(model_pca, reshape(data_test.features, (image_size, size(data_test)[1])))[:, 1:num_test_examples]\n",
    "test_features = predict(model_pca, reshape(data_test.features, (image_size, size(data_test.features, 3))))[:, 1:num_test_examples]\n",
    "\n",
    "# scale to the detuning range \n",
    "test_features_qrc = test_features/spectral * Δ_max\n",
    "\n",
    "# correct labels for the test samples\n",
    "test_targets = data_test.targets[1:num_test_examples]\n",
    "\n",
    "# quantum embeddings for the test samples\n",
    "test_embeddings = apply_layer(pre_layer, test_features_qrc)"
   ]
  },
  {
   "cell_type": "code",
   "execution_count": null,
   "metadata": {},
   "outputs": [],
   "source": [
    "#=\n",
    "\n",
    "Train a linear classifier using PCA features directly \n",
    "\n",
    "(baseline)\n",
    "\n",
    "=#\n",
    "\n",
    "loss_lin, accs_train_lin, accs_test_lin = train(\n",
    "    xs, ys, test_features, test_targets; \n",
    "    regularization=0.0005, \n",
    "    nepochs=100, \n",
    "    batchsize=1000, \n",
    "    opt=Flux.Adam(0.01),\n",
    "    verbose=true,\n",
    "    nonlinear=false\n",
    "    )    "
   ]
  },
  {
   "cell_type": "code",
   "execution_count": null,
   "metadata": {},
   "outputs": [],
   "source": [
    "println(\"PCA+linear layer test accuracy = \", accs_test_lin[end]*100, \"%\")\n",
    "Plots.plot(accs_train_lin, label=\"PCA+linear layer train accuracy\")\n",
    "Plots.plot!(accs_test_lin, label=\"PCA+linear layer test accuracy\")"
   ]
  },
  {
   "cell_type": "code",
   "execution_count": null,
   "metadata": {},
   "outputs": [],
   "source": [
    "#= \n",
    "\n",
    "Train with the QRC embeddings\n",
    "\n",
    "=#\n",
    "\n",
    "loss_qrc, accs_train_qrc, accs_test_qrc = train(\n",
    "    embeddings, ys, test_embeddings, test_targets; \n",
    "    regularization=0.0005, \n",
    "    nepochs=100, \n",
    "    batchsize=1000, \n",
    "    opt=Flux.Adam(0.01),\n",
    "    verbose=true,\n",
    "    nonlinear=false\n",
    "    )"
   ]
  },
  {
   "cell_type": "code",
   "execution_count": null,
   "metadata": {},
   "outputs": [],
   "source": [
    "println(\"QRC test accuracy=\", accs_test_qrc[end]*100, \"%\")\n",
    "Plots.plot(accs_train_qrc, label=\"QRC train accuracy\")\n",
    "Plots.plot!(accs_test_qrc, label=\"QRC test accuracy\")"
   ]
  },
  {
   "cell_type": "code",
   "execution_count": null,
   "metadata": {},
   "outputs": [],
   "source": [
    "#= \n",
    "\n",
    "Train with the PCA features on a 4-layer neural network\n",
    "\n",
    "=#\n",
    "\n",
    "loss_nn, accs_train_nn, accs_test_nn = train(\n",
    "    xs, ys, test_features, test_targets; \n",
    "    regularization=0.0005, \n",
    "    nepochs=100, \n",
    "    batchsize=1000, \n",
    "    opt=Flux.Adam(0.01),\n",
    "    verbose=true,\n",
    "    nonlinear=true \n",
    ")"
   ]
  },
  {
   "cell_type": "code",
   "execution_count": null,
   "metadata": {},
   "outputs": [],
   "source": [
    "println(\"PCA+NN test accuracy=\", accs_test_nn[end]*100, \"%\")\n",
    "Plots.plot(accs_train_nn, label=\"PCA+NN train accuracy\")\n",
    "Plots.plot!(accs_test_nn, label=\"PCA+NN test accuracy\")"
   ]
  }
 ],
 "metadata": {
  "kernelspec": {
   "display_name": "Julia 1.9.4",
   "language": "julia",
   "name": "julia-1.9"
  },
  "language_info": {
   "file_extension": ".jl",
   "mimetype": "application/julia",
   "name": "julia",
   "version": "1.9.4"
  }
 },
 "nbformat": 4,
 "nbformat_minor": 2
}
